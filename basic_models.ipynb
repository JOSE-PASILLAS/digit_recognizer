{
 "cells": [
  {
   "cell_type": "markdown",
   "metadata": {},
   "source": [
    "# Digit recognizer "
   ]
  },
  {
   "cell_type": "markdown",
   "metadata": {},
   "source": [
    "![title](images/digits.png)"
   ]
  },
  {
   "cell_type": "code",
   "execution_count": 12,
   "metadata": {},
   "outputs": [],
   "source": [
    "import pandas as pd\n",
    "import numpy as np\n",
    "import matplotlib.pyplot as plt\n",
    "from sklearn.linear_model import LogisticRegression\n",
    "from sklearn.model_selection import train_test_split\n",
    "from sklearn.cluster import KMeans\n",
    "from sklearn.pipeline import Pipeline\n",
    "from keras.models import Sequential, load_model\n",
    "from keras.layers import Dense, Dropout, Flatten, Conv2D, MaxPool2D\n",
    "from keras.optimizers import Adam, RMSprop\n",
    "from keras.preprocessing.image import ImageDataGenerator\n",
    "from keras.callbacks import ReduceLROnPlateau\n",
    "from keras.utils import to_categorical"
   ]
  },
  {
   "cell_type": "markdown",
   "metadata": {},
   "source": [
    "## Data exploration"
   ]
  },
  {
   "cell_type": "markdown",
   "metadata": {},
   "source": [
    "### Load training and test datasets"
   ]
  },
  {
   "cell_type": "code",
   "execution_count": 13,
   "metadata": {},
   "outputs": [],
   "source": [
    "# Kaggle provides the train and test sets\n",
    "train_set = pd.read_csv(\"data/train.csv\")\n",
    "test_set = pd.read_csv(\"data/test.csv\")"
   ]
  },
  {
   "cell_type": "markdown",
   "metadata": {},
   "source": [
    "### Length and dimensionalities"
   ]
  },
  {
   "cell_type": "code",
   "execution_count": 14,
   "metadata": {},
   "outputs": [
    {
     "name": "stdout",
     "output_type": "stream",
     "text": [
      "Train set shape\n",
      "42000  observations by  785  attributes\n",
      "Test set shape\n",
      "28000  observations by  784  attributes\n"
     ]
    }
   ],
   "source": [
    "print(\"Train set shape\")\n",
    "print(train_set.shape[0], \" observations by \", train_set.shape[1], \" attributes\")\n",
    "print(\"Test set shape\")\n",
    "print(test_set.shape[0], \" observations by \", test_set.shape[1], \" attributes\")"
   ]
  },
  {
   "cell_type": "markdown",
   "metadata": {},
   "source": [
    "### Split training set (training and validation sets)"
   ]
  },
  {
   "cell_type": "code",
   "execution_count": 15,
   "metadata": {},
   "outputs": [],
   "source": [
    "# Store output variable in vector\n",
    "y_train = train_set['label']\n",
    "# Delete attribute label from training set\n",
    "X_train=train_set.drop(['label'], axis=1)\n",
    "\n",
    "# Split into training and validation sets\n",
    "X_train, X_val, y_train, y_val = train_test_split(X_train, y_train, test_size=0.35, random_state=9)"
   ]
  },
  {
   "cell_type": "markdown",
   "metadata": {},
   "source": [
    "### Labels distribution"
   ]
  },
  {
   "cell_type": "code",
   "execution_count": 16,
   "metadata": {},
   "outputs": [
    {
     "data": {
      "image/png": "[encoded data removed]",
      "text/plain": [
       "<Figure size 432x288 with 1 Axes>"
      ]
     },
     "metadata": {
      "needs_background": "light"
     },
     "output_type": "display_data"
    }
   ],
   "source": [
    "%matplotlib inline\n",
    "# Labels frequency distribution \n",
    "y_train.hist()\n",
    "plt.xlabel(\"Output label\")\n",
    "plt.ylabel(\"Frequency\")\n",
    "plt.title('Labels distribution')\n",
    "plt.show()"
   ]
  },
  {
   "cell_type": "markdown",
   "metadata": {},
   "source": [
    "### Visualize a single case"
   ]
  },
  {
   "cell_type": "code",
   "execution_count": 17,
   "metadata": {},
   "outputs": [
    {
     "data": {
      "image/png": "[encoded data removed]",
      "text/plain": [
       "<Figure size 360x360 with 1 Axes>"
      ]
     },
     "metadata": {
      "needs_background": "light"
     },
     "output_type": "display_data"
    }
   ],
   "source": [
    "# Establish figure size\n",
    "plt.rcParams['figure.figsize'] = (5.0, 5.0)\n",
    "# Select only first observation and reshape to 28  * 28 matrix\n",
    "sampleimage =  X_train.iloc[1].values.reshape(28, 28)\n",
    "# Plot image in grey scale\n",
    "im = plt.imshow(sampleimage, cmap='Greys')\n",
    "plt.show()"
   ]
  },
  {
   "cell_type": "markdown",
   "metadata": {},
   "source": [
    "## Logistic regression model"
   ]
  },
  {
   "cell_type": "code",
   "execution_count": null,
   "metadata": {},
   "outputs": [
    {
     "name": "stderr",
     "output_type": "stream",
     "text": [
      "c:\\users\\alfa2\\appdata\\local\\programs\\python\\python36\\lib\\site-packages\\sklearn\\linear_model\\logistic.py:432: FutureWarning: Default solver will be changed to 'lbfgs' in 0.22. Specify a solver to silence this warning.\n",
      "  FutureWarning)\n"
     ]
    }
   ],
   "source": [
    "# Instantiate the logisti regression model\n",
    "model_log = LogisticRegression(multi_class=\"auto\",random_state=9)\n",
    "# Fit the LR model\n",
    "model_log.fit(X_train, y_train)"
   ]
  },
  {
   "cell_type": "code",
   "execution_count": null,
   "metadata": {},
   "outputs": [],
   "source": [
    "# Validation set accuracy\n",
    "model_log.score(X_val, y_val )"
   ]
  },
  {
   "cell_type": "code",
   "execution_count": null,
   "metadata": {},
   "outputs": [],
   "source": [
    "# Generate test_set predictions\n",
    "predictions = model_log.predict(test_set)"
   ]
  },
  {
   "cell_type": "code",
   "execution_count": null,
   "metadata": {},
   "outputs": [],
   "source": [
    "# Format predictions (Kaggle submission)\n",
    "predictions = pd.DataFrame({'ImageId': list(range(1, len(predictions)+1)),'label': predictions})\n",
    "prediction = pd.DataFrame(predictions).to_csv('D:/kaggle_submissions/predictions.csv', index=False)"
   ]
  },
  {
   "cell_type": "markdown",
   "metadata": {},
   "source": [
    "Kaggle public score : 0.89628"
   ]
  },
  {
   "cell_type": "markdown",
   "metadata": {},
   "source": [
    "### Clustering for dimensionalty reduction"
   ]
  },
  {
   "cell_type": "code",
   "execution_count": 11,
   "metadata": {},
   "outputs": [
    {
     "name": "stderr",
     "output_type": "stream",
     "text": [
      "c:\\users\\alfa2\\appdata\\local\\programs\\python\\python36\\lib\\site-packages\\sklearn\\linear_model\\logistic.py:432: FutureWarning: Default solver will be changed to 'lbfgs' in 0.22. Specify a solver to silence this warning.\n",
      "  FutureWarning)\n",
      "c:\\users\\alfa2\\appdata\\local\\programs\\python\\python36\\lib\\site-packages\\sklearn\\linear_model\\logistic.py:469: FutureWarning: Default multi_class will be changed to 'auto' in 0.22. Specify the multi_class option to silence this warning.\n",
      "  \"this warning.\", FutureWarning)\n"
     ]
    },
    {
     "data": {
      "text/plain": [
       "Pipeline(memory=None,\n",
       "         steps=[('kmeans',\n",
       "                 KMeans(algorithm='auto', copy_x=True, init='k-means++',\n",
       "                        max_iter=300, n_clusters=90, n_init=10, n_jobs=None,\n",
       "                        precompute_distances='auto', random_state=None,\n",
       "                        tol=0.0001, verbose=0)),\n",
       "                ('log_reg',\n",
       "                 LogisticRegression(C=1.0, class_weight=None, dual=False,\n",
       "                                    fit_intercept=True, intercept_scaling=1,\n",
       "                                    l1_ratio=None, max_iter=100,\n",
       "                                    multi_class='warn', n_jobs=None,\n",
       "                                    penalty='l2', random_state=None,\n",
       "                                    solver='warn', tol=0.0001, verbose=0,\n",
       "                                    warm_start=False))],\n",
       "         verbose=False)"
      ]
     },
     "execution_count": 11,
     "metadata": {},
     "output_type": "execute_result"
    }
   ],
   "source": [
    "# Preprocess data with K means prior to trainning\n",
    "pipeline = Pipeline([\n",
    "    (\"kmeans\", KMeans(n_clusters=90)),\n",
    "    (\"log_reg\", LogisticRegression()),\n",
    "])\n",
    "# Fit a logistic regression model\n",
    "pipeline.fit(X_train, y_train)"
   ]
  },
  {
   "cell_type": "code",
   "execution_count": 36,
   "metadata": {},
   "outputs": [
    {
     "data": {
      "text/plain": [
       "0.9305442176870748"
      ]
     },
     "execution_count": 36,
     "metadata": {},
     "output_type": "execute_result"
    }
   ],
   "source": [
    "# Validation set accuracy\n",
    "pipeline.score(X_val, y_val)"
   ]
  },
  {
   "cell_type": "code",
   "execution_count": 37,
   "metadata": {},
   "outputs": [],
   "source": [
    "# Generate test_set predictions\n",
    "k_means_preds = pipeline.predict(test_set)"
   ]
  },
  {
   "cell_type": "code",
   "execution_count": 38,
   "metadata": {},
   "outputs": [],
   "source": [
    "# Format predictions (Kaggle submission)\n",
    "k_means_preds = pd.DataFrame({'ImageId': list(range(1, len(k_means_preds)+1)),'label': k_means_preds})\n",
    "k_means_pred = pd.DataFrame(k_means_preds).to_csv('D:/kaggle_submissions/k_means_preds.csv', index=False)"
   ]
  },
  {
   "cell_type": "markdown",
   "metadata": {},
   "source": [
    "Kaggle public score : 0.92757"
   ]
  },
  {
   "cell_type": "code",
   "execution_count": 43,
   "metadata": {},
   "outputs": [],
   "source": [
    "# Basic Convolutional network"
   ]
  },
  {
   "cell_type": "code",
   "execution_count": 22,
   "metadata": {},
   "outputs": [],
   "source": [
    "###  Sequential model to build the model layer by layer\n",
    "model = Sequential()\n",
    "# Conv layer with 32 nodes with a filter matrix of 5 x 5\n",
    "model.add(Conv2D(filters=32, kernel_size=(5, 5), padding='Valid', activation='relu', input_shape=(28, 28, 1)))\n",
    "model.add(Conv2D(filters=32, kernel_size=(3, 3), padding='Same', activation='relu'))\n",
    "model.add(MaxPool2D(pool_size=(2, 2)))\n",
    "model.add(Dropout(0.2))\n",
    "\n",
    "model.add(Conv2D(filters=64, kernel_size=(5, 5), padding='Valid', activation='relu'))\n",
    "model.add(Conv2D(filters=64, kernel_size=(3, 3), padding='Same', activation='relu'))\n",
    "model.add(MaxPool2D(pool_size=(2, 2), strides=(2, 2)))\n",
    "model.add(Dropout(0.2))\n",
    "\n",
    "# Connection between convolution and dense layers\n",
    "model.add(Flatten())\n",
    "model.add(Dense(519, activation=\"relu\"))\n",
    "model.add(Dropout(0.5))\n",
    "# 0 to 9 possible outcomes\n",
    "model.add(Dense(10, activation=\"softmax\"))\n",
    "\n",
    "model.compile(loss='categorical_crossentropy', optimizer=Adam(lr=1e-3), metrics=[\"accuracy\"])\n",
    "\n",
    "annealer = ReduceLROnPlateau(monitor='val_acc', patience=1, verbose=2, factor=0.5, min_lr=0.0000001) #patience=2\n",
    "\n",
    "datagen = ImageDataGenerator(\n",
    "    featurewise_center=False,\n",
    "    samplewise_center=False,\n",
    "    featurewise_std_normalization=False,\n",
    "    samplewise_std_normalization=False,\n",
    "    zca_whitening=False,\n",
    "    rotation_range=10,\n",
    "    zoom_range=0.1,\n",
    "    width_shift_range=0.1,\n",
    "    height_shift_range=0.1,\n",
    "    horizontal_flip=False,\n",
    "    vertical_flip=False)  \n"
   ]
  },
  {
   "cell_type": "code",
   "execution_count": 19,
   "metadata": {},
   "outputs": [],
   "source": [
    "# Normalization\n",
    "X_train = X_train / 255.0\n",
    "X_val = X_val / 255.0\n",
    "X_test = X_train / 255.0\n",
    "\n",
    "#Reshape train, val and test valuest o shape 28 x 28 greyscale\n",
    "X_train = X_train.values.reshape(-1,28,28,1)\n",
    "X_val = X_val.values.reshape(-1,28,28,1)\n",
    "X_test = test_set.values.reshape(-1,28,28,1)\n",
    "\n",
    "# One-hot encoding output variavle\n",
    "y_train = to_categorical(y_train, num_classes = 10)\n",
    "y_val = to_categorical(y_val, num_classes = 10)"
   ]
  },
  {
   "cell_type": "code",
   "execution_count": 23,
   "metadata": {},
   "outputs": [
    {
     "name": "stdout",
     "output_type": "stream",
     "text": [
      "Epoch 1/60\n",
      "682/682 [==============================] - 24s 35ms/step - loss: 0.4119 - accuracy: 0.8658 - val_loss: 0.1341 - val_accuracy: 0.9721\n",
      "Epoch 2/60\n",
      "  4/682 [..............................] - ETA: 28s - loss: 0.1391 - accuracy: 0.9500"
     ]
    },
    {
     "name": "stderr",
     "output_type": "stream",
     "text": [
      "c:\\users\\alfa2\\appdata\\local\\programs\\python\\python36\\lib\\site-packages\\keras\\callbacks\\callbacks.py:1042: RuntimeWarning: Reduce LR on plateau conditioned on metric `val_acc` which is not available. Available metrics are: val_loss,val_accuracy,loss,accuracy,lr\n",
      "  (self.monitor, ','.join(list(logs.keys()))), RuntimeWarning\n"
     ]
    },
    {
     "name": "stdout",
     "output_type": "stream",
     "text": [
      "682/682 [==============================] - 23s 34ms/step - loss: 0.1183 - accuracy: 0.9650 - val_loss: 0.0515 - val_accuracy: 0.9832\n",
      "Epoch 3/60\n",
      "682/682 [==============================] - 23s 34ms/step - loss: 0.0846 - accuracy: 0.9751 - val_loss: 0.0705 - val_accuracy: 0.9800\n",
      "Epoch 4/60\n",
      "682/682 [==============================] - 23s 34ms/step - loss: 0.0735 - accuracy: 0.9782 - val_loss: 0.0130 - val_accuracy: 0.9844\n",
      "Epoch 5/60\n",
      "682/682 [==============================] - 23s 33ms/step - loss: 0.0645 - accuracy: 0.9813 - val_loss: 0.0209 - val_accuracy: 0.9851\n",
      "Epoch 6/60\n",
      "682/682 [==============================] - 23s 34ms/step - loss: 0.0542 - accuracy: 0.9832 - val_loss: 0.1326 - val_accuracy: 0.9854\n",
      "Epoch 7/60\n",
      "682/682 [==============================] - 23s 34ms/step - loss: 0.0538 - accuracy: 0.9841 - val_loss: 0.0026 - val_accuracy: 0.9867\n",
      "Epoch 8/60\n",
      "682/682 [==============================] - 23s 33ms/step - loss: 0.0530 - accuracy: 0.9843 - val_loss: 0.0371 - val_accuracy: 0.9878\n",
      "Epoch 9/60\n",
      "682/682 [==============================] - 23s 33ms/step - loss: 0.0448 - accuracy: 0.9864 - val_loss: 0.0021 - val_accuracy: 0.9865\n",
      "Epoch 10/60\n",
      "682/682 [==============================] - 23s 33ms/step - loss: 0.0484 - accuracy: 0.9857 - val_loss: 0.0862 - val_accuracy: 0.9857\n",
      "Epoch 11/60\n",
      "682/682 [==============================] - 23s 33ms/step - loss: 0.0473 - accuracy: 0.9859 - val_loss: 0.0428 - val_accuracy: 0.9888\n",
      "Epoch 12/60\n",
      "682/682 [==============================] - 23s 33ms/step - loss: 0.0408 - accuracy: 0.9886 - val_loss: 0.0031 - val_accuracy: 0.9873\n",
      "Epoch 13/60\n",
      "682/682 [==============================] - 23s 33ms/step - loss: 0.0413 - accuracy: 0.9881 - val_loss: 0.0597 - val_accuracy: 0.9884\n",
      "Epoch 14/60\n",
      "682/682 [==============================] - 23s 33ms/step - loss: 0.0402 - accuracy: 0.9877 - val_loss: 0.0012 - val_accuracy: 0.9889\n",
      "Epoch 15/60\n",
      "682/682 [==============================] - 23s 33ms/step - loss: 0.0370 - accuracy: 0.9891 - val_loss: 0.0025 - val_accuracy: 0.9910\n",
      "Epoch 16/60\n",
      "682/682 [==============================] - 23s 33ms/step - loss: 0.0342 - accuracy: 0.9896 - val_loss: 0.0110 - val_accuracy: 0.9903\n",
      "Epoch 17/60\n",
      "682/682 [==============================] - 23s 33ms/step - loss: 0.0390 - accuracy: 0.9899 - val_loss: 0.0067 - val_accuracy: 0.9860\n",
      "Epoch 18/60\n",
      "682/682 [==============================] - 23s 33ms/step - loss: 0.0333 - accuracy: 0.9901 - val_loss: 0.0012 - val_accuracy: 0.9896\n",
      "Epoch 19/60\n",
      "682/682 [==============================] - 23s 33ms/step - loss: 0.0340 - accuracy: 0.9897 - val_loss: 0.0017 - val_accuracy: 0.9905\n",
      "Epoch 20/60\n",
      "682/682 [==============================] - 23s 34ms/step - loss: 0.0364 - accuracy: 0.9892 - val_loss: 0.0073 - val_accuracy: 0.9902\n",
      "Epoch 21/60\n",
      "682/682 [==============================] - 23s 33ms/step - loss: 0.0298 - accuracy: 0.9904 - val_loss: 2.5053e-04 - val_accuracy: 0.9918\n",
      "Epoch 22/60\n",
      "682/682 [==============================] - 23s 33ms/step - loss: 0.0344 - accuracy: 0.9891 - val_loss: 4.2987e-04 - val_accuracy: 0.9897\n",
      "Epoch 23/60\n",
      "682/682 [==============================] - 23s 34ms/step - loss: 0.0337 - accuracy: 0.9903 - val_loss: 0.0190 - val_accuracy: 0.9918\n",
      "Epoch 24/60\n",
      "682/682 [==============================] - 23s 33ms/step - loss: 0.0286 - accuracy: 0.9914 - val_loss: 0.0043 - val_accuracy: 0.9920\n",
      "Epoch 25/60\n",
      "682/682 [==============================] - 23s 33ms/step - loss: 0.0302 - accuracy: 0.9909 - val_loss: 0.0465 - val_accuracy: 0.9893\n",
      "Epoch 26/60\n",
      "682/682 [==============================] - 23s 34ms/step - loss: 0.0306 - accuracy: 0.9904 - val_loss: 4.8540e-04 - val_accuracy: 0.9920\n",
      "Epoch 27/60\n",
      "682/682 [==============================] - 23s 33ms/step - loss: 0.0334 - accuracy: 0.9904 - val_loss: 0.0676 - val_accuracy: 0.9912\n",
      "Epoch 28/60\n",
      "682/682 [==============================] - 23s 33ms/step - loss: 0.0314 - accuracy: 0.9914 - val_loss: 4.8936e-04 - val_accuracy: 0.9930\n",
      "Epoch 29/60\n",
      "682/682 [==============================] - 23s 33ms/step - loss: 0.0300 - accuracy: 0.9910 - val_loss: 0.0401 - val_accuracy: 0.9906\n",
      "Epoch 30/60\n",
      "682/682 [==============================] - 23s 33ms/step - loss: 0.0304 - accuracy: 0.9910 - val_loss: 0.0040 - val_accuracy: 0.9916\n",
      "Epoch 31/60\n",
      "682/682 [==============================] - 23s 33ms/step - loss: 0.0287 - accuracy: 0.9913 - val_loss: 1.9384e-05 - val_accuracy: 0.9917\n",
      "Epoch 32/60\n",
      "682/682 [==============================] - 23s 33ms/step - loss: 0.0295 - accuracy: 0.9911 - val_loss: 8.4306e-04 - val_accuracy: 0.9929\n",
      "Epoch 33/60\n",
      "682/682 [==============================] - 23s 33ms/step - loss: 0.0266 - accuracy: 0.9921 - val_loss: 7.1702e-05 - val_accuracy: 0.9911\n",
      "Epoch 34/60\n",
      "682/682 [==============================] - 23s 34ms/step - loss: 0.0309 - accuracy: 0.9912 - val_loss: 0.0723 - val_accuracy: 0.9930\n",
      "Epoch 35/60\n",
      "682/682 [==============================] - 23s 33ms/step - loss: 0.0290 - accuracy: 0.9916 - val_loss: 0.0193 - val_accuracy: 0.9915\n",
      "Epoch 36/60\n",
      "682/682 [==============================] - 23s 33ms/step - loss: 0.0308 - accuracy: 0.9912 - val_loss: 0.0550 - val_accuracy: 0.9909\n",
      "Epoch 37/60\n",
      "682/682 [==============================] - 23s 33ms/step - loss: 0.0261 - accuracy: 0.9920 - val_loss: 0.1484 - val_accuracy: 0.9896\n",
      "Epoch 38/60\n",
      "682/682 [==============================] - 23s 33ms/step - loss: 0.0266 - accuracy: 0.9920 - val_loss: 0.0016 - val_accuracy: 0.9920\n",
      "Epoch 39/60\n",
      "682/682 [==============================] - 23s 33ms/step - loss: 0.0253 - accuracy: 0.9922 - val_loss: 0.0292 - val_accuracy: 0.9908\n",
      "Epoch 40/60\n",
      "682/682 [==============================] - 23s 33ms/step - loss: 0.0318 - accuracy: 0.9911 - val_loss: 0.1067 - val_accuracy: 0.9912\n",
      "Epoch 41/60\n",
      "682/682 [==============================] - 23s 33ms/step - loss: 0.0245 - accuracy: 0.9925 - val_loss: 0.1797 - val_accuracy: 0.9917\n",
      "Epoch 42/60\n",
      "682/682 [==============================] - 23s 33ms/step - loss: 0.0279 - accuracy: 0.9916 - val_loss: 7.8525e-04 - val_accuracy: 0.9912\n",
      "Epoch 43/60\n",
      "682/682 [==============================] - 23s 33ms/step - loss: 0.0272 - accuracy: 0.9917 - val_loss: 1.2195e-05 - val_accuracy: 0.9916\n",
      "Epoch 44/60\n",
      "682/682 [==============================] - 23s 33ms/step - loss: 0.0284 - accuracy: 0.9911 - val_loss: 0.1057 - val_accuracy: 0.9926\n",
      "Epoch 45/60\n",
      "682/682 [==============================] - 23s 33ms/step - loss: 0.0240 - accuracy: 0.9932 - val_loss: 0.0017 - val_accuracy: 0.9937\n",
      "Epoch 46/60\n",
      "682/682 [==============================] - 23s 33ms/step - loss: 0.0271 - accuracy: 0.9921 - val_loss: 0.1227 - val_accuracy: 0.9918\n",
      "Epoch 47/60\n",
      "682/682 [==============================] - 23s 33ms/step - loss: 0.0241 - accuracy: 0.9928 - val_loss: 4.1488e-04 - val_accuracy: 0.9924\n",
      "Epoch 48/60\n",
      "682/682 [==============================] - 23s 33ms/step - loss: 0.0249 - accuracy: 0.9928 - val_loss: 0.0030 - val_accuracy: 0.9917\n",
      "Epoch 49/60\n",
      "682/682 [==============================] - 23s 33ms/step - loss: 0.0255 - accuracy: 0.9928 - val_loss: 7.9713e-04 - val_accuracy: 0.9920\n",
      "Epoch 50/60\n",
      "682/682 [==============================] - 23s 33ms/step - loss: 0.0312 - accuracy: 0.9915 - val_loss: 9.6432e-06 - val_accuracy: 0.9913\n",
      "Epoch 51/60\n",
      "682/682 [==============================] - 23s 34ms/step - loss: 0.0276 - accuracy: 0.9920 - val_loss: 4.3764e-05 - val_accuracy: 0.9918\n",
      "Epoch 52/60\n",
      "682/682 [==============================] - 23s 33ms/step - loss: 0.0246 - accuracy: 0.9934 - val_loss: 1.6264e-05 - val_accuracy: 0.9951\n",
      "Epoch 53/60\n",
      "682/682 [==============================] - 23s 33ms/step - loss: 0.0264 - accuracy: 0.9924 - val_loss: 1.7373e-04 - val_accuracy: 0.9902\n",
      "Epoch 54/60\n",
      "682/682 [==============================] - 23s 33ms/step - loss: 0.0278 - accuracy: 0.9920 - val_loss: 0.0013 - val_accuracy: 0.9917\n",
      "Epoch 55/60\n",
      "682/682 [==============================] - 23s 33ms/step - loss: 0.0273 - accuracy: 0.9923 - val_loss: 0.1622 - val_accuracy: 0.9922\n",
      "Epoch 56/60\n",
      "682/682 [==============================] - 23s 33ms/step - loss: 0.0270 - accuracy: 0.9919 - val_loss: 6.6844e-06 - val_accuracy: 0.9910\n",
      "Epoch 57/60\n",
      "682/682 [==============================] - 23s 33ms/step - loss: 0.0261 - accuracy: 0.9923 - val_loss: 1.2568e-04 - val_accuracy: 0.9929\n",
      "Epoch 58/60\n",
      "682/682 [==============================] - 23s 33ms/step - loss: 0.0293 - accuracy: 0.9918 - val_loss: 4.4328e-05 - val_accuracy: 0.9894\n",
      "Epoch 59/60\n",
      "682/682 [==============================] - 23s 33ms/step - loss: 0.0273 - accuracy: 0.9921 - val_loss: 0.1130 - val_accuracy: 0.9916\n",
      "Epoch 60/60\n",
      "682/682 [==============================] - 23s 33ms/step - loss: 0.0260 - accuracy: 0.9925 - val_loss: 0.0034 - val_accuracy: 0.9931\n",
      "14700/14700 [==============================] - 2s 135us/step\n",
      "Validation accuracy:  0.994557797908783\n"
     ]
    }
   ],
   "source": [
    "epochs = 60\n",
    "batch_size = 40\n",
    "validation_steps = 10000\n",
    "\n",
    "# initialize Model, Annealer and Datagen\n",
    "#model, annealer, datagen = init_model()\n",
    "\n",
    "# Start training\n",
    "train_generator = datagen.flow(X_train, y_train, batch_size=batch_size)\n",
    "test_generator = datagen.flow(X_val, y_val, batch_size=batch_size)\n",
    "\n",
    "history = model.fit_generator(train_generator,\n",
    "                    steps_per_epoch=X_train.shape[0]//batch_size,\n",
    "                    epochs=epochs,\n",
    "                    validation_data=test_generator,\n",
    "                    validation_steps=validation_steps//batch_size,\n",
    "                    callbacks=[annealer])\n",
    "\n",
    "score = model.evaluate(X_val, y_val)\n",
    "print('Validation accuracy: ', score[1])"
   ]
  },
  {
   "cell_type": "code",
   "execution_count": 24,
   "metadata": {},
   "outputs": [],
   "source": [
    "cnn_preds = np.argmax(model.predict(X_test), axis=1)"
   ]
  },
  {
   "cell_type": "code",
   "execution_count": 25,
   "metadata": {},
   "outputs": [],
   "source": [
    "# Format predictions (Kaggle submission)\n",
    "cnn_preds = pd.DataFrame({'ImageId': list(range(1, len(cnn_preds)+1)),'label': cnn_preds})\n",
    "cnn_preds = pd.DataFrame(cnn_preds).to_csv('D:/kaggle_submissions/cnn_preds.csv', index=False)"
   ]
  },
  {
   "cell_type": "markdown",
   "metadata": {},
   "source": [
    "Kaggle public score : 0.99271"
   ]
  }
 ],
 "metadata": {
  "kernelspec": {
   "display_name": "Python 3",
   "language": "python",
   "name": "python3"
  },
  "language_info": {
   "codemirror_mode": {
    "name": "ipython",
    "version": 3
   },
   "file_extension": ".py",
   "mimetype": "text/x-python",
   "name": "python",
   "nbconvert_exporter": "python",
   "pygments_lexer": "ipython3",
   "version": "3.6.2"
  }
 },
 "nbformat": 4,
 "nbformat_minor": 4
}
