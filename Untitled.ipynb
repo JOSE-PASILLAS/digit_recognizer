{
 "cells": [
  {
   "cell_type": "code",
   "execution_count": 2,
   "metadata": {},
   "outputs": [],
   "source": [
    "from keras.models import Sequential, load_model\n",
    "from keras.layers import Dense, Dropout, Flatten, Conv2D, MaxPool2D\n",
    "from keras.optimizers import Adam, RMSprop\n",
    "from keras.preprocessing.image import ImageDataGenerator\n",
    "from keras.callbacks import ReduceLROnPlateau\n",
    "\n",
    "\n",
    "def init_model():\n",
    "\n",
    "    ###  Model Definition\n",
    "    model = Sequential()\n",
    "    model.add(Conv2D(filters=32, kernel_size=(5, 5), padding='Valid', activation='relu', input_shape=(28, 28, 1)))\n",
    "    model.add(Conv2D(filters=32, kernel_size=(3, 3), padding='Same', activation='relu'))\n",
    "    model.add(MaxPool2D(pool_size=(2, 2)))\n",
    "    model.add(Dropout(0.2))\n",
    "\n",
    "    model.add(Conv2D(filters=64, kernel_size=(5, 5), padding='Valid', activation='relu'))\n",
    "    model.add(Conv2D(filters=64, kernel_size=(3, 3), padding='Same', activation='relu'))\n",
    "    model.add(MaxPool2D(pool_size=(2, 2), strides=(2, 2)))\n",
    "    model.add(Dropout(0.2))\n",
    "\n",
    "    model.add(Flatten())\n",
    "    model.add(Dense(519, activation=\"relu\"))  # [[521,0.9962,70],[519,0.9969,51]\n",
    "    model.add(Dropout(0.5))\n",
    "    model.add(Dense(10, activation=\"softmax\"))\n",
    "\n",
    "    model.compile(loss='categorical_crossentropy', optimizer=Adam(lr=1e-3), metrics=[\"accuracy\"])\n",
    "\n",
    "    annealer = ReduceLROnPlateau(monitor='val_acc', patience=1, verbose=2, factor=0.5, min_lr=0.0000001) #patience=2\n",
    "\n",
    "    datagen = ImageDataGenerator(\n",
    "        featurewise_center=False,\n",
    "        samplewise_center=False,\n",
    "        featurewise_std_normalization=False,\n",
    "        samplewise_std_normalization=False,\n",
    "        zca_whitening=False,\n",
    "        rotation_range=10,\n",
    "        zoom_range=0.1,\n",
    "        width_shift_range=0.1,\n",
    "        height_shift_range=0.1,\n",
    "        horizontal_flip=False,\n",
    "        vertical_flip=False)  # , preprocessing_function=random_add_or_erase_spot)\n",
    "\n",
    "    return model, annealer, datagen"
   ]
  },
  {
   "cell_type": "code",
   "execution_count": 10,
   "metadata": {},
   "outputs": [
    {
     "name": "stdout",
     "output_type": "stream",
     "text": [
      "(42000, 785)\n",
      "{1: 4684, 7: 4401, 3: 4351, 9: 4188, 2: 4177, 6: 4137, 0: 4132, 4: 4072, 8: 4063, 5: 3795}\n"
     ]
    }
   ],
   "source": [
    "import pandas as pd\n",
    "import numpy as np\n",
    "\n",
    "import matplotlib.pyplot as plt\n",
    "from sklearn.model_selection import ShuffleSplit\n",
    "from sklearn.metrics import accuracy_score, confusion_matrix\n",
    "from keras.utils.np_utils import to_categorical\n",
    "\n",
    "import time\n",
    "start_time = time.time()\n",
    "\n",
    "# Load the data\n",
    "train = pd.read_csv(\"./data/train.csv\")\n",
    "print(train.shape)\n",
    "\n",
    "#Prepare dataset\n",
    "y = train[\"label\"]\n",
    "X = train.drop(\"label\", axis = 1)\n",
    "print(y.value_counts().to_dict())\n",
    "y = to_categorical(y, num_classes = 10)\n",
    "\n",
    "\n",
    "X = X / 255.0\n",
    "X = X.values.reshape(-1,28,28,1)\n",
    "\n",
    "# Shuffle Split Train and Test from original dataset\n",
    "seed=2\n",
    "train_index, valid_index = ShuffleSplit(n_splits=1,\n",
    "                                        train_size=0.9,\n",
    "                                        test_size=None,\n",
    "                                        random_state=seed).split(X).__next__()\n",
    "x_train = X[train_index]\n",
    "Y_train = y[train_index]\n",
    "x_test = X[valid_index]\n",
    "Y_test = y[valid_index]\n",
    "\n",
    "# Parameters\n",
    "epochs = 30\n",
    "batch_size = 64\n",
    "validation_steps = 10000\n",
    "\n",
    "# initialize Model, Annealer and Datagen\n",
    "model, annealer, datagen = init_model()\n",
    "\n",
    "# Start training\n",
    "train_generator = datagen.flow(x_train, Y_train, batch_size=batch_size)\n",
    "test_generator = datagen.flow(x_test, Y_test, batch_size=batch_size)"
   ]
  },
  {
   "cell_type": "code",
   "execution_count": 13,
   "metadata": {},
   "outputs": [
    {
     "data": {
      "text/plain": [
       "array([[0., 0., 0., ..., 0., 1., 0.],\n",
       "       [0., 0., 0., ..., 1., 0., 0.],\n",
       "       [0., 0., 0., ..., 0., 0., 1.],\n",
       "       ...,\n",
       "       [0., 0., 1., ..., 0., 0., 0.],\n",
       "       [0., 0., 0., ..., 0., 0., 1.],\n",
       "       [0., 0., 0., ..., 0., 0., 0.]], dtype=float32)"
      ]
     },
     "execution_count": 13,
     "metadata": {},
     "output_type": "execute_result"
    }
   ],
   "source": [
    "Y_train"
   ]
  },
  {
   "cell_type": "code",
   "execution_count": null,
   "metadata": {},
   "outputs": [],
   "source": []
  },
  {
   "cell_type": "code",
   "execution_count": null,
   "metadata": {},
   "outputs": [],
   "source": []
  }
 ],
 "metadata": {
  "kernelspec": {
   "display_name": "Python 3",
   "language": "python",
   "name": "python3"
  },
  "language_info": {
   "codemirror_mode": {
    "name": "ipython",
    "version": 3
   },
   "file_extension": ".py",
   "mimetype": "text/x-python",
   "name": "python",
   "nbconvert_exporter": "python",
   "pygments_lexer": "ipython3",
   "version": "3.6.2"
  }
 },
 "nbformat": 4,
 "nbformat_minor": 4
}
